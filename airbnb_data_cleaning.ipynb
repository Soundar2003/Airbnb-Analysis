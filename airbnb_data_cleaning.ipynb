{
 "cells": [
  {
   "cell_type": "code",
   "execution_count": 18,
   "id": "2af2844b",
   "metadata": {},
   "outputs": [],
   "source": [
    "import pandas as pd"
   ]
  },
  {
   "cell_type": "code",
   "execution_count": 19,
   "id": "65cbfdf7",
   "metadata": {},
   "outputs": [],
   "source": [
    "df=pd.read_csv(r'my_data.csv')"
   ]
  },
  {
   "cell_type": "code",
   "execution_count": 20,
   "id": "fe0a3bd9",
   "metadata": {},
   "outputs": [
    {
     "data": {
      "text/html": [
       "<div>\n",
       "<style scoped>\n",
       "    .dataframe tbody tr th:only-of-type {\n",
       "        vertical-align: middle;\n",
       "    }\n",
       "\n",
       "    .dataframe tbody tr th {\n",
       "        vertical-align: top;\n",
       "    }\n",
       "\n",
       "    .dataframe thead th {\n",
       "        text-align: right;\n",
       "    }\n",
       "</style>\n",
       "<table border=\"1\" class=\"dataframe\">\n",
       "  <thead>\n",
       "    <tr style=\"text-align: right;\">\n",
       "      <th></th>\n",
       "      <th>Unnamed: 0</th>\n",
       "      <th>id</th>\n",
       "      <th>name</th>\n",
       "      <th>host_id</th>\n",
       "      <th>host_name</th>\n",
       "      <th>neighbourhood</th>\n",
       "      <th>longitude</th>\n",
       "      <th>latitude</th>\n",
       "      <th>property_type</th>\n",
       "      <th>room_type</th>\n",
       "      <th>beds</th>\n",
       "      <th>accommodates</th>\n",
       "      <th>price</th>\n",
       "      <th>availability</th>\n",
       "      <th>minimum_night</th>\n",
       "      <th>maximum_night</th>\n",
       "      <th>no_of_reviews</th>\n",
       "      <th>rating</th>\n",
       "      <th>host_listings_counts</th>\n",
       "    </tr>\n",
       "  </thead>\n",
       "  <tbody>\n",
       "    <tr>\n",
       "      <th>0</th>\n",
       "      <td>0</td>\n",
       "      <td>10006546</td>\n",
       "      <td>Ribeira Charming Duplex</td>\n",
       "      <td>51399391</td>\n",
       "      <td>Ana&amp;Gonçalo</td>\n",
       "      <td>NaN</td>\n",
       "      <td>-8.61308</td>\n",
       "      <td>41.14130</td>\n",
       "      <td>House</td>\n",
       "      <td>Entire home/apt</td>\n",
       "      <td>5</td>\n",
       "      <td>8</td>\n",
       "      <td>80.0</td>\n",
       "      <td>239</td>\n",
       "      <td>2</td>\n",
       "      <td>30</td>\n",
       "      <td>51</td>\n",
       "      <td>89</td>\n",
       "      <td>3</td>\n",
       "    </tr>\n",
       "    <tr>\n",
       "      <th>1</th>\n",
       "      <td>1</td>\n",
       "      <td>10006546</td>\n",
       "      <td>Ribeira Charming Duplex</td>\n",
       "      <td>51399391</td>\n",
       "      <td>Ana&amp;Gonçalo</td>\n",
       "      <td>NaN</td>\n",
       "      <td>-8.61308</td>\n",
       "      <td>41.14130</td>\n",
       "      <td>House</td>\n",
       "      <td>Entire home/apt</td>\n",
       "      <td>5</td>\n",
       "      <td>8</td>\n",
       "      <td>80.0</td>\n",
       "      <td>239</td>\n",
       "      <td>2</td>\n",
       "      <td>30</td>\n",
       "      <td>51</td>\n",
       "      <td>89</td>\n",
       "      <td>3</td>\n",
       "    </tr>\n",
       "    <tr>\n",
       "      <th>2</th>\n",
       "      <td>2</td>\n",
       "      <td>1001265</td>\n",
       "      <td>Ocean View Waikiki Marina w/prkg</td>\n",
       "      <td>5448114</td>\n",
       "      <td>David</td>\n",
       "      <td>Waikiki</td>\n",
       "      <td>-157.83919</td>\n",
       "      <td>21.28634</td>\n",
       "      <td>Condominium</td>\n",
       "      <td>Entire home/apt</td>\n",
       "      <td>1</td>\n",
       "      <td>2</td>\n",
       "      <td>115.0</td>\n",
       "      <td>343</td>\n",
       "      <td>3</td>\n",
       "      <td>365</td>\n",
       "      <td>96</td>\n",
       "      <td>84</td>\n",
       "      <td>18</td>\n",
       "    </tr>\n",
       "    <tr>\n",
       "      <th>3</th>\n",
       "      <td>3</td>\n",
       "      <td>10021707</td>\n",
       "      <td>Private Room in Bushwick</td>\n",
       "      <td>11275734</td>\n",
       "      <td>Josh</td>\n",
       "      <td>Bushwick</td>\n",
       "      <td>-73.93615</td>\n",
       "      <td>40.69791</td>\n",
       "      <td>Apartment</td>\n",
       "      <td>Private room</td>\n",
       "      <td>1</td>\n",
       "      <td>1</td>\n",
       "      <td>40.0</td>\n",
       "      <td>0</td>\n",
       "      <td>14</td>\n",
       "      <td>1125</td>\n",
       "      <td>1</td>\n",
       "      <td>100</td>\n",
       "      <td>1</td>\n",
       "    </tr>\n",
       "    <tr>\n",
       "      <th>4</th>\n",
       "      <td>4</td>\n",
       "      <td>10021707</td>\n",
       "      <td>Private Room in Bushwick</td>\n",
       "      <td>11275734</td>\n",
       "      <td>Josh</td>\n",
       "      <td>Bushwick</td>\n",
       "      <td>-73.93615</td>\n",
       "      <td>40.69791</td>\n",
       "      <td>Apartment</td>\n",
       "      <td>Private room</td>\n",
       "      <td>1</td>\n",
       "      <td>1</td>\n",
       "      <td>40.0</td>\n",
       "      <td>0</td>\n",
       "      <td>14</td>\n",
       "      <td>1125</td>\n",
       "      <td>1</td>\n",
       "      <td>100</td>\n",
       "      <td>1</td>\n",
       "    </tr>\n",
       "  </tbody>\n",
       "</table>\n",
       "</div>"
      ],
      "text/plain": [
       "   Unnamed: 0        id                              name   host_id  \\\n",
       "0           0  10006546           Ribeira Charming Duplex  51399391   \n",
       "1           1  10006546           Ribeira Charming Duplex  51399391   \n",
       "2           2   1001265  Ocean View Waikiki Marina w/prkg   5448114   \n",
       "3           3  10021707          Private Room in Bushwick  11275734   \n",
       "4           4  10021707          Private Room in Bushwick  11275734   \n",
       "\n",
       "     host_name neighbourhood  longitude  latitude property_type  \\\n",
       "0  Ana&Gonçalo           NaN   -8.61308  41.14130         House   \n",
       "1  Ana&Gonçalo           NaN   -8.61308  41.14130         House   \n",
       "2        David       Waikiki -157.83919  21.28634   Condominium   \n",
       "3         Josh      Bushwick  -73.93615  40.69791     Apartment   \n",
       "4         Josh      Bushwick  -73.93615  40.69791     Apartment   \n",
       "\n",
       "         room_type  beds  accommodates  price  availability  minimum_night  \\\n",
       "0  Entire home/apt     5             8   80.0           239              2   \n",
       "1  Entire home/apt     5             8   80.0           239              2   \n",
       "2  Entire home/apt     1             2  115.0           343              3   \n",
       "3     Private room     1             1   40.0             0             14   \n",
       "4     Private room     1             1   40.0             0             14   \n",
       "\n",
       "   maximum_night  no_of_reviews  rating  host_listings_counts  \n",
       "0             30             51      89                     3  \n",
       "1             30             51      89                     3  \n",
       "2            365             96      84                    18  \n",
       "3           1125              1     100                     1  \n",
       "4           1125              1     100                     1  "
      ]
     },
     "execution_count": 20,
     "metadata": {},
     "output_type": "execute_result"
    }
   ],
   "source": [
    "df.head()"
   ]
  },
  {
   "cell_type": "code",
   "execution_count": 21,
   "id": "45035930",
   "metadata": {},
   "outputs": [
    {
     "data": {
      "text/plain": [
       "1476"
      ]
     },
     "execution_count": 21,
     "metadata": {},
     "output_type": "execute_result"
    }
   ],
   "source": [
    "df.duplicated(\"id\").sum()"
   ]
  },
  {
   "cell_type": "code",
   "execution_count": 22,
   "id": "d3287ba0",
   "metadata": {},
   "outputs": [],
   "source": [
    "new_df=df.drop_duplicates(\"id\")"
   ]
  },
  {
   "cell_type": "code",
   "execution_count": 23,
   "id": "a4e27f5c",
   "metadata": {},
   "outputs": [
    {
     "data": {
      "text/html": [
       "<div>\n",
       "<style scoped>\n",
       "    .dataframe tbody tr th:only-of-type {\n",
       "        vertical-align: middle;\n",
       "    }\n",
       "\n",
       "    .dataframe tbody tr th {\n",
       "        vertical-align: top;\n",
       "    }\n",
       "\n",
       "    .dataframe thead th {\n",
       "        text-align: right;\n",
       "    }\n",
       "</style>\n",
       "<table border=\"1\" class=\"dataframe\">\n",
       "  <thead>\n",
       "    <tr style=\"text-align: right;\">\n",
       "      <th></th>\n",
       "      <th>Unnamed: 0</th>\n",
       "      <th>id</th>\n",
       "      <th>name</th>\n",
       "      <th>host_id</th>\n",
       "      <th>host_name</th>\n",
       "      <th>neighbourhood</th>\n",
       "      <th>longitude</th>\n",
       "      <th>latitude</th>\n",
       "      <th>property_type</th>\n",
       "      <th>room_type</th>\n",
       "      <th>beds</th>\n",
       "      <th>accommodates</th>\n",
       "      <th>price</th>\n",
       "      <th>availability</th>\n",
       "      <th>minimum_night</th>\n",
       "      <th>maximum_night</th>\n",
       "      <th>no_of_reviews</th>\n",
       "      <th>rating</th>\n",
       "      <th>host_listings_counts</th>\n",
       "    </tr>\n",
       "  </thead>\n",
       "  <tbody>\n",
       "    <tr>\n",
       "      <th>0</th>\n",
       "      <td>0</td>\n",
       "      <td>10006546</td>\n",
       "      <td>Ribeira Charming Duplex</td>\n",
       "      <td>51399391</td>\n",
       "      <td>Ana&amp;Gonçalo</td>\n",
       "      <td>NaN</td>\n",
       "      <td>-8.613080</td>\n",
       "      <td>41.141300</td>\n",
       "      <td>House</td>\n",
       "      <td>Entire home/apt</td>\n",
       "      <td>5</td>\n",
       "      <td>8</td>\n",
       "      <td>80.0</td>\n",
       "      <td>239</td>\n",
       "      <td>2</td>\n",
       "      <td>30</td>\n",
       "      <td>51</td>\n",
       "      <td>89</td>\n",
       "      <td>3</td>\n",
       "    </tr>\n",
       "    <tr>\n",
       "      <th>2</th>\n",
       "      <td>2</td>\n",
       "      <td>1001265</td>\n",
       "      <td>Ocean View Waikiki Marina w/prkg</td>\n",
       "      <td>5448114</td>\n",
       "      <td>David</td>\n",
       "      <td>Waikiki</td>\n",
       "      <td>-157.839190</td>\n",
       "      <td>21.286340</td>\n",
       "      <td>Condominium</td>\n",
       "      <td>Entire home/apt</td>\n",
       "      <td>1</td>\n",
       "      <td>2</td>\n",
       "      <td>115.0</td>\n",
       "      <td>343</td>\n",
       "      <td>3</td>\n",
       "      <td>365</td>\n",
       "      <td>96</td>\n",
       "      <td>84</td>\n",
       "      <td>18</td>\n",
       "    </tr>\n",
       "    <tr>\n",
       "      <th>3</th>\n",
       "      <td>3</td>\n",
       "      <td>10021707</td>\n",
       "      <td>Private Room in Bushwick</td>\n",
       "      <td>11275734</td>\n",
       "      <td>Josh</td>\n",
       "      <td>Bushwick</td>\n",
       "      <td>-73.936150</td>\n",
       "      <td>40.697910</td>\n",
       "      <td>Apartment</td>\n",
       "      <td>Private room</td>\n",
       "      <td>1</td>\n",
       "      <td>1</td>\n",
       "      <td>40.0</td>\n",
       "      <td>0</td>\n",
       "      <td>14</td>\n",
       "      <td>1125</td>\n",
       "      <td>1</td>\n",
       "      <td>100</td>\n",
       "      <td>1</td>\n",
       "    </tr>\n",
       "    <tr>\n",
       "      <th>5</th>\n",
       "      <td>5</td>\n",
       "      <td>1003530</td>\n",
       "      <td>New York City - Upper West Side Apt</td>\n",
       "      <td>454250</td>\n",
       "      <td>Greta</td>\n",
       "      <td>NaN</td>\n",
       "      <td>-73.965230</td>\n",
       "      <td>40.799620</td>\n",
       "      <td>Apartment</td>\n",
       "      <td>Private room</td>\n",
       "      <td>1</td>\n",
       "      <td>2</td>\n",
       "      <td>135.0</td>\n",
       "      <td>93</td>\n",
       "      <td>12</td>\n",
       "      <td>360</td>\n",
       "      <td>70</td>\n",
       "      <td>94</td>\n",
       "      <td>3</td>\n",
       "    </tr>\n",
       "    <tr>\n",
       "      <th>6</th>\n",
       "      <td>6</td>\n",
       "      <td>10038496</td>\n",
       "      <td>Copacabana Apartment Posto 6</td>\n",
       "      <td>51530266</td>\n",
       "      <td>Ana Valéria</td>\n",
       "      <td>Copacabana</td>\n",
       "      <td>-43.190849</td>\n",
       "      <td>-22.984339</td>\n",
       "      <td>Apartment</td>\n",
       "      <td>Entire home/apt</td>\n",
       "      <td>3</td>\n",
       "      <td>4</td>\n",
       "      <td>119.0</td>\n",
       "      <td>118</td>\n",
       "      <td>3</td>\n",
       "      <td>75</td>\n",
       "      <td>70</td>\n",
       "      <td>98</td>\n",
       "      <td>2</td>\n",
       "    </tr>\n",
       "  </tbody>\n",
       "</table>\n",
       "</div>"
      ],
      "text/plain": [
       "   Unnamed: 0        id                                 name   host_id  \\\n",
       "0           0  10006546              Ribeira Charming Duplex  51399391   \n",
       "2           2   1001265     Ocean View Waikiki Marina w/prkg   5448114   \n",
       "3           3  10021707             Private Room in Bushwick  11275734   \n",
       "5           5   1003530  New York City - Upper West Side Apt    454250   \n",
       "6           6  10038496         Copacabana Apartment Posto 6  51530266   \n",
       "\n",
       "     host_name neighbourhood   longitude   latitude property_type  \\\n",
       "0  Ana&Gonçalo           NaN   -8.613080  41.141300         House   \n",
       "2        David       Waikiki -157.839190  21.286340   Condominium   \n",
       "3         Josh      Bushwick  -73.936150  40.697910     Apartment   \n",
       "5        Greta           NaN  -73.965230  40.799620     Apartment   \n",
       "6  Ana Valéria    Copacabana  -43.190849 -22.984339     Apartment   \n",
       "\n",
       "         room_type  beds  accommodates  price  availability  minimum_night  \\\n",
       "0  Entire home/apt     5             8   80.0           239              2   \n",
       "2  Entire home/apt     1             2  115.0           343              3   \n",
       "3     Private room     1             1   40.0             0             14   \n",
       "5     Private room     1             2  135.0            93             12   \n",
       "6  Entire home/apt     3             4  119.0           118              3   \n",
       "\n",
       "   maximum_night  no_of_reviews  rating  host_listings_counts  \n",
       "0             30             51      89                     3  \n",
       "2            365             96      84                    18  \n",
       "3           1125              1     100                     1  \n",
       "5            360             70      94                     3  \n",
       "6             75             70      98                     2  "
      ]
     },
     "execution_count": 23,
     "metadata": {},
     "output_type": "execute_result"
    }
   ],
   "source": [
    "new_df.head()"
   ]
  },
  {
   "cell_type": "code",
   "execution_count": 24,
   "id": "555580df",
   "metadata": {},
   "outputs": [
    {
     "data": {
      "text/plain": [
       "4079"
      ]
     },
     "execution_count": 24,
     "metadata": {},
     "output_type": "execute_result"
    }
   ],
   "source": [
    "len(new_df[\"id\"].unique())"
   ]
  },
  {
   "cell_type": "code",
   "execution_count": 25,
   "id": "24c8ab34",
   "metadata": {},
   "outputs": [
    {
     "data": {
      "text/plain": [
       "Unnamed: 0                 0\n",
       "id                         0\n",
       "name                       2\n",
       "host_id                    0\n",
       "host_name                  0\n",
       "neighbourhood           1228\n",
       "longitude                  0\n",
       "latitude                   0\n",
       "property_type              0\n",
       "room_type                  0\n",
       "beds                       0\n",
       "accommodates               0\n",
       "price                      0\n",
       "availability               0\n",
       "minimum_night              0\n",
       "maximum_night              0\n",
       "no_of_reviews              0\n",
       "rating                     0\n",
       "host_listings_counts       0\n",
       "dtype: int64"
      ]
     },
     "execution_count": 25,
     "metadata": {},
     "output_type": "execute_result"
    }
   ],
   "source": [
    "new_df.isnull().sum()"
   ]
  },
  {
   "cell_type": "code",
   "execution_count": 26,
   "id": "970168f0",
   "metadata": {},
   "outputs": [
    {
     "name": "stderr",
     "output_type": "stream",
     "text": [
      "C:\\Users\\jayap\\AppData\\Local\\Temp\\ipykernel_888\\2792076313.py:1: SettingWithCopyWarning: \n",
      "A value is trying to be set on a copy of a slice from a DataFrame\n",
      "\n",
      "See the caveats in the documentation: https://pandas.pydata.org/pandas-docs/stable/user_guide/indexing.html#returning-a-view-versus-a-copy\n",
      "  new_df['name'].fillna('Not Mentioned', inplace=True)\n"
     ]
    }
   ],
   "source": [
    "new_df['name'].fillna('Not Mentioned', inplace=True)"
   ]
  },
  {
   "cell_type": "code",
   "execution_count": 32,
   "id": "b1b224c0",
   "metadata": {},
   "outputs": [
    {
     "name": "stderr",
     "output_type": "stream",
     "text": [
      "C:\\Users\\jayap\\AppData\\Local\\Temp\\ipykernel_888\\3842200854.py:1: SettingWithCopyWarning: \n",
      "A value is trying to be set on a copy of a slice from a DataFrame\n",
      "\n",
      "See the caveats in the documentation: https://pandas.pydata.org/pandas-docs/stable/user_guide/indexing.html#returning-a-view-versus-a-copy\n",
      "  new_df['neighbourhood'].fillna(method='ffill', inplace=True)\n"
     ]
    }
   ],
   "source": [
    "new_df['neighbourhood'].fillna(method='ffill', inplace=True)"
   ]
  },
  {
   "cell_type": "code",
   "execution_count": 33,
   "id": "f7cd6b95",
   "metadata": {},
   "outputs": [
    {
     "data": {
      "text/plain": [
       "Unnamed: 0              0\n",
       "id                      0\n",
       "name                    0\n",
       "host_id                 0\n",
       "host_name               0\n",
       "neighbourhood           0\n",
       "longitude               0\n",
       "latitude                0\n",
       "property_type           0\n",
       "room_type               0\n",
       "beds                    0\n",
       "accommodates            0\n",
       "price                   0\n",
       "availability            0\n",
       "minimum_night           0\n",
       "maximum_night           0\n",
       "no_of_reviews           0\n",
       "rating                  0\n",
       "host_listings_counts    0\n",
       "dtype: int64"
      ]
     },
     "execution_count": 33,
     "metadata": {},
     "output_type": "execute_result"
    }
   ],
   "source": [
    "new_df.isnull().sum()"
   ]
  },
  {
   "cell_type": "code",
   "execution_count": 34,
   "id": "18f192f2",
   "metadata": {},
   "outputs": [
    {
     "name": "stdout",
     "output_type": "stream",
     "text": [
      "<class 'pandas.core.frame.DataFrame'>\n",
      "Index: 4079 entries, 0 to 5554\n",
      "Data columns (total 19 columns):\n",
      " #   Column                Non-Null Count  Dtype  \n",
      "---  ------                --------------  -----  \n",
      " 0   Unnamed: 0            4079 non-null   int64  \n",
      " 1   id                    4079 non-null   int64  \n",
      " 2   name                  4079 non-null   object \n",
      " 3   host_id               4079 non-null   int64  \n",
      " 4   host_name             4079 non-null   object \n",
      " 5   neighbourhood         4079 non-null   object \n",
      " 6   longitude             4079 non-null   float64\n",
      " 7   latitude              4079 non-null   float64\n",
      " 8   property_type         4079 non-null   object \n",
      " 9   room_type             4079 non-null   object \n",
      " 10  beds                  4079 non-null   int64  \n",
      " 11  accommodates          4079 non-null   int64  \n",
      " 12  price                 4079 non-null   float64\n",
      " 13  availability          4079 non-null   int64  \n",
      " 14  minimum_night         4079 non-null   int64  \n",
      " 15  maximum_night         4079 non-null   int64  \n",
      " 16  no_of_reviews         4079 non-null   int64  \n",
      " 17  rating                4079 non-null   int64  \n",
      " 18  host_listings_counts  4079 non-null   int64  \n",
      "dtypes: float64(3), int64(11), object(5)\n",
      "memory usage: 637.3+ KB\n"
     ]
    }
   ],
   "source": [
    "new_df.info()"
   ]
  },
  {
   "cell_type": "code",
   "execution_count": 30,
   "id": "c390edab",
   "metadata": {},
   "outputs": [],
   "source": [
    "new_df.to_csv('clean_my_data.csv')"
   ]
  },
  {
   "cell_type": "code",
   "execution_count": null,
   "id": "06d44533",
   "metadata": {},
   "outputs": [],
   "source": []
  }
 ],
 "metadata": {
  "kernelspec": {
   "display_name": "Python 3 (ipykernel)",
   "language": "python",
   "name": "python3"
  },
  "language_info": {
   "codemirror_mode": {
    "name": "ipython",
    "version": 3
   },
   "file_extension": ".py",
   "mimetype": "text/x-python",
   "name": "python",
   "nbconvert_exporter": "python",
   "pygments_lexer": "ipython3",
   "version": "3.11.5"
  }
 },
 "nbformat": 4,
 "nbformat_minor": 5
}
